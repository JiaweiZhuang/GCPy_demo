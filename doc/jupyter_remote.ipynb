{
 "cells": [
  {
   "cell_type": "markdown",
   "metadata": {},
   "source": [
    "# Jupyter notebook on remote server"
   ]
  },
  {
   "cell_type": "markdown",
   "metadata": {},
   "source": [
    "Jupyter notebook works very well with remote servers. That's important for earth science modeling people because we seldom run models and store data on our personal computers!\n",
    "\n",
    "Traditionally, we display figures on a remote server using [x11 forwarding](https://en.wikipedia.org/wiki/X_Window_System), but that's extremely slow and often annoying. On the contrary, Jupyter simply uses HTTP protocal and runs in a web browser. You user experience will not change at all when using Jupyter on a remote server - still a web browser, still very fast."
   ]
  },
  {
   "cell_type": "markdown",
   "metadata": {},
   "source": [
    "## Private server"
   ]
  },
  {
   "cell_type": "markdown",
   "metadata": {},
   "source": [
    "On your own server or cloud computing platforms, setting up Jupyter is almost trivial. See the following link or other similar tutorials.\n",
    "\n",
    "- https://techtalktone.wordpress.com/2017/03/28/running-jupyter-notebooks-on-a-remote-server-via-ssh/"
   ]
  },
  {
   "cell_type": "markdown",
   "metadata": {},
   "source": [
    "## Shared HPC cluster"
   ]
  },
  {
   "cell_type": "markdown",
   "metadata": {},
   "source": [
    "### General reference"
   ]
  },
  {
   "cell_type": "markdown",
   "metadata": {
    "collapsed": true
   },
   "source": [
    "The way to set up Jupyter on a shared HPC cluster could be system-dependent. You may ask system architects or refer to:\n",
    "\n",
    "- https://medium.com/@rabernat/custom-conda-environments-for-data-science-on-hpc-clusters-32d58c63aa95\n",
    "- http://ipyrad.readthedocs.io/HPC_Tunnel.html"
   ]
  },
  {
   "cell_type": "markdown",
   "metadata": {},
   "source": [
    "### Harvard Odyssey"
   ]
  },
  {
   "cell_type": "markdown",
   "metadata": {},
   "source": [
    "The following script works on Harvard Odyssey, which uses the slurm system.\n",
    "\n",
    "    #!/bin/bash\n",
    "    #SBATCH -p general\n",
    "    #SBATCH -N 1\n",
    "    #SBATCH -c 1\n",
    "    #SBATCH -t 2:00:00\n",
    "    #SBATCH --mem-per-cpu 8000\n",
    "    #SBATCH --job-name notebook\n",
    "    #SBATCH --output jupyter-address-%J.log\n",
    "\n",
    "    ## get tunneling info\n",
    "    XDG_RUNTIME_DIR=\"\"\n",
    "    ipnport=$(shuf -i8000-9999 -n1)\n",
    "    ipnip=$(hostname -i)\n",
    "\n",
    "    ## print tunneling instructions to the output file\n",
    "    echo -e \"\n",
    "        Copy/Paste this in your local terminal to ssh tunnel with remote\n",
    "        -----------------------------------------------------------------\n",
    "        ssh -N -L $ipnport:$ipnip:$ipnport user@host\n",
    "        -----------------------------------------------------------------\n",
    "\n",
    "        Then open a browser on your local machine to the following address\n",
    "        ------------------------------------------------------------------\n",
    "        localhost:$ipnport  (prefix w/ https:// if using password)\n",
    "        ------------------------------------------------------------------\n",
    "        \"\n",
    "\n",
    "    ## start an ipcluster instance and launch jupyter server\n",
    "    source activate GCPy # change it to your environment name\n",
    "    jupyter-notebook --NotebookApp.token='' --no-browser --port=$ipnport --ip=$ipnip"
   ]
  }
 ],
 "metadata": {
  "kernelspec": {
   "display_name": "Python 3",
   "language": "python",
   "name": "python3"
  },
  "language_info": {
   "codemirror_mode": {
    "name": "ipython",
    "version": 3
   },
   "file_extension": ".py",
   "mimetype": "text/x-python",
   "name": "python",
   "nbconvert_exporter": "python",
   "pygments_lexer": "ipython3",
   "version": "3.6.2"
  },
  "toc": {
   "nav_menu": {},
   "number_sections": true,
   "sideBar": true,
   "skip_h1_title": false,
   "toc_cell": false,
   "toc_position": {},
   "toc_section_display": "block",
   "toc_window_display": false
  }
 },
 "nbformat": 4,
 "nbformat_minor": 2
}
