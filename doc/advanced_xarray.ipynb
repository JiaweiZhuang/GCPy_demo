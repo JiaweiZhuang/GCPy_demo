{
 "cells": [
  {
   "cell_type": "markdown",
   "metadata": {},
   "source": [
    "# Working with global high-resolution data"
   ]
  },
  {
   "cell_type": "markdown",
   "metadata": {},
   "source": [
    "A unique feature of xarray is it works well with very large data. This is crucial for global high-resolution models like [GCHP](http://wiki.seas.harvard.edu/geos-chem/index.php/GEOS-Chem_HP), which could produce GBs of data even for just one variable.  The data often exceed computer's memory, so IDL/MATLAB programs will just die if you try to read such large data."
   ]
  },
  {
   "cell_type": "markdown",
   "metadata": {},
   "source": [
    "## Lazy evaluation"
   ]
  },
  {
   "cell_type": "markdown",
   "metadata": {},
   "source": [
    "Here we use a native resolution GEOS-FP metfield as an example. You can download it at:\n",
    "\n",
    "    ftp://ftp.as.harvard.edu/gcgrid/GEOS_0.25x0.3125/GEOS_0.25x0.3125.d/GEOS_FP/2015/07/GEOSFP.20150701.A3cld.Native.nc"
   ]
  },
  {
   "cell_type": "code",
   "execution_count": 1,
   "metadata": {},
   "outputs": [
    {
     "name": "stdout",
     "output_type": "stream",
     "text": [
      "1.4G\t./GEOSFP.20150701.A3cld.Native.nc\n"
     ]
    }
   ],
   "source": [
    "%%bash\n",
    "du -h ./GEOSFP.20150701.A3cld.Native.nc"
   ]
  },
  {
   "cell_type": "markdown",
   "metadata": {},
   "source": [
    "The file size is 1.4 GB -- not extremely large. But that's already after [NetCDF compression](http://www.unidata.ucar.edu/blogs/developer/entry/netcdf_compression)! The raw data size (after reading into memory) would be more than 20 GB, which exceeds most computers' memory."
   ]
  },
  {
   "cell_type": "markdown",
   "metadata": {},
   "source": [
    "Let's see how long it takes to read such a file with xarray"
   ]
  },
  {
   "cell_type": "code",
   "execution_count": 2,
   "metadata": {},
   "outputs": [
    {
     "name": "stdout",
     "output_type": "stream",
     "text": [
      "CPU times: user 19.8 ms, sys: 4.65 ms, total: 24.4 ms\n",
      "Wall time: 25.9 ms\n"
     ]
    }
   ],
   "source": [
    "import xarray as xr\n",
    "%time ds = xr.open_dataset(\"./GEOSFP.20150701.A3cld.Native.nc\")"
   ]
  },
  {
   "cell_type": "markdown",
   "metadata": {},
   "source": [
    "Wait, just milliseconds? \n",
    "\n",
    "It looks like we do get the entire file:"
   ]
  },
  {
   "cell_type": "code",
   "execution_count": 3,
   "metadata": {},
   "outputs": [
    {
     "data": {
      "text/plain": [
       "<xarray.Dataset>\n",
       "Dimensions:   (lat: 721, lev: 72, lon: 1152, time: 8)\n",
       "Coordinates:\n",
       "  * time      (time) datetime64[ns] 2015-07-01T01:30:00 2015-07-01T04:30:00 ...\n",
       "  * lev       (lev) float32 1.0 2.0 3.0 4.0 5.0 6.0 7.0 8.0 9.0 10.0 11.0 ...\n",
       "  * lat       (lat) float32 -89.9375 -89.75 -89.5 -89.25 -89.0 -88.75 -88.5 ...\n",
       "  * lon       (lon) float32 -180.0 -179.688 -179.375 -179.062 -178.75 ...\n",
       "Data variables:\n",
       "    CLOUD     (time, lev, lat, lon) float64 0.1229 0.1229 0.1229 0.1229 ...\n",
       "    OPTDEPTH  (time, lev, lat, lon) float64 0.0 0.0 0.0 0.0 0.0 0.0 0.0 0.0 ...\n",
       "    QCCU      (time, lev, lat, lon) float64 9.969e+36 9.969e+36 9.969e+36 ...\n",
       "    QI        (time, lev, lat, lon) float64 8.382e-08 8.382e-08 8.382e-08 ...\n",
       "    QL        (time, lev, lat, lon) float64 0.0 0.0 0.0 0.0 0.0 0.0 0.0 0.0 ...\n",
       "    TAUCLI    (time, lev, lat, lon) float64 0.0 0.0 0.0 0.0 0.0 0.0 0.0 0.0 ...\n",
       "    TAUCLW    (time, lev, lat, lon) float64 0.0 0.0 0.0 0.0 0.0 0.0 0.0 0.0 ...\n",
       "Attributes:\n",
       "    Title:                 GEOS-FP time-averaged 3-hour cloud parameters (A3c...\n",
       "    Contact:               GEOS-Chem Support Team (geos-chem-support@as.harva...\n",
       "    References:            www.geos-chem.org; wiki.geos-chem.org\n",
       "    Filename:              GEOSFP.20150701.A3cld.Native.nc\n",
       "    History:               File generated on: 2015/11/29 15:02:54 GMT-0400\n",
       "    ProductionDateTime:    File generated on: 2015/11/29 15:02:54 GMT-0400\n",
       "    ModificationDateTime:  File generated on: 2015/11/29 15:02:54 GMT-0400\n",
       "    Format:                NetCDF-4\n",
       "    SpatialCoverage:       global\n",
       "    Conventions:           COARDS\n",
       "    Version:               GEOS-FP\n",
       "    Model:                 GEOS-5\n",
       "    Nlayers:               72\n",
       "    Start_Date:            20150701\n",
       "    Start_Time:            00:00:00.0\n",
       "    End_Date:              20150701\n",
       "    End_Time:              23:59:59.99999\n",
       "    Delta_Time:            030000\n",
       "    Delta_Lon:             0.312500\n",
       "    Delta_Lat:             0.250000"
      ]
     },
     "execution_count": 3,
     "metadata": {},
     "output_type": "execute_result"
    }
   ],
   "source": [
    "ds"
   ]
  },
  {
   "cell_type": "markdown",
   "metadata": {},
   "source": [
    "But that's deceptive. xarray only reads the metadata such as dimensions, coordinates and attributes, so it is lightning fast. It will read the actual numerical data if you explicitly execute `ds.load()`. **Never** try this command on this kind of large data because your program will just die.\n",
    "\n",
    "xarray will automatically retrieve the data from disk **only when** they are actually needed. In other words, it tries to keep the memory usage as low as possible. We call this **lazy evaluation**."
   ]
  },
  {
   "cell_type": "markdown",
   "metadata": {},
   "source": [
    "Any operation that doesn't require the actual data will be lightning fast. Such as selecting a variable:"
   ]
  },
  {
   "cell_type": "code",
   "execution_count": 4,
   "metadata": {},
   "outputs": [
    {
     "data": {
      "text/plain": [
       "<xarray.DataArray 'CLOUD' (time: 8, lev: 72, lat: 721, lon: 1152)>\n",
       "[478420992 values with dtype=float64]\n",
       "Coordinates:\n",
       "  * time     (time) datetime64[ns] 2015-07-01T01:30:00 2015-07-01T04:30:00 ...\n",
       "  * lev      (lev) float32 1.0 2.0 3.0 4.0 5.0 6.0 7.0 8.0 9.0 10.0 11.0 ...\n",
       "  * lat      (lat) float32 -89.9375 -89.75 -89.5 -89.25 -89.0 -88.75 -88.5 ...\n",
       "  * lon      (lon) float32 -180.0 -179.688 -179.375 -179.062 -178.75 ...\n",
       "Attributes:\n",
       "    long_name:       Total cloud fraction in grid box\n",
       "    units:           1\n",
       "    gamap_category:  GMAO-3D$"
      ]
     },
     "execution_count": 4,
     "metadata": {},
     "output_type": "execute_result"
    }
   ],
   "source": [
    "dr = ds['CLOUD'] # super fast\n",
    "dr"
   ]
  },
  {
   "cell_type": "markdown",
   "metadata": {},
   "source": [
    "Even for indexing or any other array operations: (as long as your don't explicitly ask for the data values)"
   ]
  },
  {
   "cell_type": "code",
   "execution_count": 5,
   "metadata": {},
   "outputs": [
    {
     "data": {
      "text/plain": [
       "<xarray.DataArray 'CLOUD' (time: 8, lat: 721, lon: 1152)>\n",
       "[6644736 values with dtype=float64]\n",
       "Coordinates:\n",
       "  * time     (time) datetime64[ns] 2015-07-01T01:30:00 2015-07-01T04:30:00 ...\n",
       "    lev      float32 1.0\n",
       "  * lat      (lat) float32 -89.9375 -89.75 -89.5 -89.25 -89.0 -88.75 -88.5 ...\n",
       "  * lon      (lon) float32 -180.0 -179.688 -179.375 -179.062 -178.75 ...\n",
       "Attributes:\n",
       "    long_name:       Total cloud fraction in grid box\n",
       "    units:           1\n",
       "    gamap_category:  GMAO-3D$"
      ]
     },
     "execution_count": 5,
     "metadata": {},
     "output_type": "execute_result"
    }
   ],
   "source": [
    "dr_surf = dr.isel(lev=0) # super fast\n",
    "dr_surf"
   ]
  },
  {
   "cell_type": "markdown",
   "metadata": {},
   "source": [
    "This `dr_surf` object points to the surface level of the *CLOUD* data. This subset of data is sufficiently small so we can read it into memory. Even reading a single level takes 2 seconds, so you can imagine how long it will take to read the full data. \n",
    "\n",
    "(Note that the NetCDF format allows you to only read a subset of data into memory)"
   ]
  },
  {
   "cell_type": "code",
   "execution_count": 6,
   "metadata": {},
   "outputs": [
    {
     "name": "stdout",
     "output_type": "stream",
     "text": [
      "CPU times: user 1.87 s, sys: 132 ms, total: 2.01 s\n",
      "Wall time: 2.01 s\n"
     ]
    },
    {
     "data": {
      "text/plain": [
       "<xarray.DataArray 'CLOUD' (time: 8, lat: 721, lon: 1152)>\n",
       "array([[[ 0.122925,  0.122925, ...,  0.122925,  0.122925],\n",
       "        [ 0.289062,  0.290039, ...,  0.287598,  0.288574],\n",
       "        ..., \n",
       "        [ 0.      ,  0.      , ...,  0.      ,  0.      ],\n",
       "        [ 0.      ,  0.      , ...,  0.      ,  0.      ]],\n",
       "\n",
       "       [[ 0.151123,  0.151123, ...,  0.151123,  0.151123],\n",
       "        [ 0.27002 ,  0.269043, ...,  0.272461,  0.271484],\n",
       "        ..., \n",
       "        [ 0.      ,  0.      , ...,  0.      ,  0.      ],\n",
       "        [ 0.      ,  0.      , ...,  0.      ,  0.      ]],\n",
       "\n",
       "       ..., \n",
       "       [[ 0.211426,  0.211426, ...,  0.211426,  0.211426],\n",
       "        [ 0.106689,  0.106567, ...,  0.106934,  0.106812],\n",
       "        ..., \n",
       "        [ 0.      ,  0.      , ...,  0.      ,  0.      ],\n",
       "        [ 0.      ,  0.      , ...,  0.      ,  0.      ]],\n",
       "\n",
       "       [[ 0.548828,  0.548828, ...,  0.548828,  0.548828],\n",
       "        [ 0.624023,  0.625   , ...,  0.623047,  0.623047],\n",
       "        ..., \n",
       "        [ 0.      ,  0.      , ...,  0.      ,  0.      ],\n",
       "        [ 0.      ,  0.      , ...,  0.      ,  0.      ]]])\n",
       "Coordinates:\n",
       "  * time     (time) datetime64[ns] 2015-07-01T01:30:00 2015-07-01T04:30:00 ...\n",
       "    lev      float32 1.0\n",
       "  * lat      (lat) float32 -89.9375 -89.75 -89.5 -89.25 -89.0 -88.75 -88.5 ...\n",
       "  * lon      (lon) float32 -180.0 -179.688 -179.375 -179.062 -178.75 ...\n",
       "Attributes:\n",
       "    long_name:       Total cloud fraction in grid box\n",
       "    units:           1\n",
       "    gamap_category:  GMAO-3D$"
      ]
     },
     "execution_count": 6,
     "metadata": {},
     "output_type": "execute_result"
    }
   ],
   "source": [
    "%time dr_surf.load()"
   ]
  },
  {
   "cell_type": "markdown",
   "metadata": {},
   "source": [
    "Since the data is now in memory, we can plot it. In fact, you don't need to run `dr_surf.load()` before plotting. xarray will automatically read the data when you try to plot, because a plotting operation requires the actual data values."
   ]
  },
  {
   "cell_type": "code",
   "execution_count": 7,
   "metadata": {},
   "outputs": [
    {
     "data": {
      "text/plain": [
       "<matplotlib.collections.QuadMesh at 0x1238efe10>"
      ]
     },
     "execution_count": 7,
     "metadata": {},
     "output_type": "execute_result"
    },
    {
     "data": {
      "image/png": "[encoded data removed]",
      "text/plain": [
       "<matplotlib.figure.Figure at 0x12043fbe0>"
      ]
     },
     "metadata": {},
     "output_type": "display_data"
    }
   ],
   "source": [
    "%matplotlib inline\n",
    "dr_surf.isel(time=0).plot(cmap='Blues_r')"
   ]
  },
  {
   "cell_type": "markdown",
   "metadata": {},
   "source": [
    "## More explanation on data size"
   ]
  },
  {
   "cell_type": "markdown",
   "metadata": {},
   "source": [
    "So how much data is actually read into memory? Just 50 MB."
   ]
  },
  {
   "cell_type": "code",
   "execution_count": 8,
   "metadata": {},
   "outputs": [
    {
     "name": "stdout",
     "output_type": "stream",
     "text": [
      "53.157888 MB\n"
     ]
    }
   ],
   "source": [
    "print(dr_surf.nbytes / 1e6, 'MB')"
   ]
  },
  {
   "cell_type": "markdown",
   "metadata": {},
   "source": [
    "An equivalent calculation:"
   ]
  },
  {
   "cell_type": "code",
   "execution_count": 9,
   "metadata": {},
   "outputs": [
    {
     "name": "stdout",
     "output_type": "stream",
     "text": [
      "53.157888 MB\n"
     ]
    }
   ],
   "source": [
    "print(8*721*1152 * 8 / 1e6, 'MB') # ntime*nlon*nlat * 8 byte float"
   ]
  },
  {
   "cell_type": "markdown",
   "metadata": {},
   "source": [
    "What's the size of the entire *CLOUD* data, with all 72 levels?"
   ]
  },
  {
   "cell_type": "code",
   "execution_count": 10,
   "metadata": {},
   "outputs": [
    {
     "name": "stdout",
     "output_type": "stream",
     "text": [
      "3.827367936 GB\n"
     ]
    }
   ],
   "source": [
    "print(dr.nbytes / 1e9, 'GB')"
   ]
  },
  {
   "cell_type": "markdown",
   "metadata": {},
   "source": [
    "An equivalent calculation:"
   ]
  },
  {
   "cell_type": "code",
   "execution_count": 11,
   "metadata": {},
   "outputs": [
    {
     "name": "stdout",
     "output_type": "stream",
     "text": [
      "3.827367936 GB\n"
     ]
    }
   ],
   "source": [
    "print(8*721*1152*72 * 8 / 1e9, 'GB') # ntime*nlon*nlat*nlev * 8 byte float"
   ]
  },
  {
   "cell_type": "markdown",
   "metadata": {},
   "source": [
    "Even if the memory is enough, reading such data will take very long!"
   ]
  },
  {
   "cell_type": "markdown",
   "metadata": {},
   "source": [
    "Finally, what's the size of the entire NetCDF file?"
   ]
  },
  {
   "cell_type": "code",
   "execution_count": 12,
   "metadata": {},
   "outputs": [
    {
     "name": "stdout",
     "output_type": "stream",
     "text": [
      "26.791583396 GB\n"
     ]
    }
   ],
   "source": [
    "print(ds.nbytes / 1e9, 'GB')"
   ]
  },
  {
   "cell_type": "markdown",
   "metadata": {},
   "source": [
    "Such size will kill almost all laptops. But thanks to lazy evaluation, we have no problem with it."
   ]
  },
  {
   "cell_type": "markdown",
   "metadata": {},
   "source": [
    "## Out-of-core data processing"
   ]
  },
  {
   "cell_type": "markdown",
   "metadata": {},
   "source": [
    "Sometimes you do need to process the entire data (e.g. take global average), not just select a subset. Fortunately, xarray can still deal with it, thanks to the [out-of-core computing](https://en.wikipedia.org/wiki/Out-of-core_algorithm) technique."
   ]
  },
  {
   "cell_type": "markdown",
   "metadata": {},
   "source": [
    "We know our NetCDF data has 8 time slices, so let's divide it into 8 pieces so that a single piece would not exceed memory. \n",
    "(see [xarray documentation](http://xarray.pydata.org/en/stable/dask.html) for more about `chunk`)"
   ]
  },
  {
   "cell_type": "code",
   "execution_count": 13,
   "metadata": {
    "collapsed": true
   },
   "outputs": [],
   "source": [
    "ds = ds.chunk({'time': 1})"
   ]
  },
  {
   "cell_type": "markdown",
   "metadata": {},
   "source": [
    "Now our `DataArray` has a new `chunksize` attribute:"
   ]
  },
  {
   "cell_type": "code",
   "execution_count": 14,
   "metadata": {},
   "outputs": [
    {
     "data": {
      "text/plain": [
       "<xarray.DataArray 'CLOUD' (time: 8, lev: 72, lat: 721, lon: 1152)>\n",
       "dask.array<xarray-CLOUD, shape=(8, 72, 721, 1152), dtype=float64, chunksize=(1, 72, 721, 1152)>\n",
       "Coordinates:\n",
       "  * time     (time) datetime64[ns] 2015-07-01T01:30:00 2015-07-01T04:30:00 ...\n",
       "  * lev      (lev) float32 1.0 2.0 3.0 4.0 5.0 6.0 7.0 8.0 9.0 10.0 11.0 ...\n",
       "  * lat      (lat) float32 -89.9375 -89.75 -89.5 -89.25 -89.0 -88.75 -88.5 ...\n",
       "  * lon      (lon) float32 -180.0 -179.688 -179.375 -179.062 -178.75 ...\n",
       "Attributes:\n",
       "    long_name:       Total cloud fraction in grid box\n",
       "    units:           1\n",
       "    gamap_category:  GMAO-3D$"
      ]
     },
     "execution_count": 14,
     "metadata": {},
     "output_type": "execute_result"
    }
   ],
   "source": [
    "dr = ds['CLOUD']\n",
    "dr"
   ]
  },
  {
   "cell_type": "markdown",
   "metadata": {},
   "source": [
    "We want to take column average over the entire data field. The following command still uses lazy-evaluation without doing actual computation."
   ]
  },
  {
   "cell_type": "code",
   "execution_count": 15,
   "metadata": {},
   "outputs": [
    {
     "data": {
      "text/plain": [
       "<xarray.DataArray 'CLOUD' (time: 8, lat: 721, lon: 1152)>\n",
       "dask.array<mean_agg-aggregate, shape=(8, 721, 1152), dtype=float64, chunksize=(1, 721, 1152)>\n",
       "Coordinates:\n",
       "  * time     (time) datetime64[ns] 2015-07-01T01:30:00 2015-07-01T04:30:00 ...\n",
       "  * lat      (lat) float32 -89.9375 -89.75 -89.5 -89.25 -89.0 -88.75 -88.5 ...\n",
       "  * lon      (lon) float32 -180.0 -179.688 -179.375 -179.062 -178.75 ..."
      ]
     },
     "execution_count": 15,
     "metadata": {},
     "output_type": "execute_result"
    }
   ],
   "source": [
    "dr.mean(dim='lev')"
   ]
  },
  {
   "cell_type": "markdown",
   "metadata": {},
   "source": [
    "Use `.compute()` when you actually need the results. Then xarray will process each piece (\"chunk\") one by one, and put the results together.\n",
    "\n",
    "Because xarray uses\n",
    "[dask](http://dask.pydata.org/en/latest/index.html) under the hood, we can use [dask ProgressBar](http://dask.pydata.org/en/latest/diagnostics.html#progress-bar) to monitor the progress. Otherwise it will look like getting stuck."
   ]
  },
  {
   "cell_type": "code",
   "execution_count": 16,
   "metadata": {},
   "outputs": [
    {
     "name": "stdout",
     "output_type": "stream",
     "text": [
      "[########################################] | 100% Completed | 17.9s\n"
     ]
    }
   ],
   "source": [
    "from dask.diagnostics import ProgressBar\n",
    "\n",
    "with ProgressBar():\n",
    "    dr_levmean = dr.mean(dim='lev').compute()"
   ]
  },
  {
   "cell_type": "markdown",
   "metadata": {},
   "source": [
    "It takes 20 seconds, kind of time-consuming. But this calculation is not possible at all with traditional tools like IDL/MATLAB."
   ]
  },
  {
   "cell_type": "markdown",
   "metadata": {},
   "source": [
    "Now we see the actual numerical data:"
   ]
  },
  {
   "cell_type": "code",
   "execution_count": 17,
   "metadata": {},
   "outputs": [
    {
     "data": {
      "text/plain": [
       "<xarray.DataArray 'CLOUD' (time: 8, lat: 721, lon: 1152)>\n",
       "array([[[ 0.098929,  0.098929, ...,  0.098929,  0.098929],\n",
       "        [ 0.116195,  0.116132, ...,  0.116353,  0.116277],\n",
       "        ..., \n",
       "        [ 0.027914,  0.027806, ...,  0.028132,  0.028024],\n",
       "        [ 0.02229 ,  0.02229 , ...,  0.02229 ,  0.02229 ]],\n",
       "\n",
       "       [[ 0.103683,  0.103683, ...,  0.103683,  0.103683],\n",
       "        [ 0.114203,  0.114143, ...,  0.11426 ,  0.114244],\n",
       "        ..., \n",
       "        [ 0.026128,  0.026203, ...,  0.026008,  0.026071],\n",
       "        [ 0.016974,  0.016974, ...,  0.016974,  0.016974]],\n",
       "\n",
       "       ..., \n",
       "       [[ 0.07467 ,  0.07467 , ...,  0.07467 ,  0.07467 ],\n",
       "        [ 0.072274,  0.072266, ...,  0.07231 ,  0.072309],\n",
       "        ..., \n",
       "        [ 0.006045,  0.006052, ...,  0.00604 ,  0.006046],\n",
       "        [ 0.008976,  0.008976, ...,  0.008976,  0.008976]],\n",
       "\n",
       "       [[ 0.069148,  0.069148, ...,  0.069148,  0.069148],\n",
       "        [ 0.070722,  0.070705, ...,  0.070723,  0.070725],\n",
       "        ..., \n",
       "        [ 0.002394,  0.002377, ...,  0.002432,  0.002411],\n",
       "        [ 0.003763,  0.003763, ...,  0.003763,  0.003763]]])\n",
       "Coordinates:\n",
       "  * time     (time) datetime64[ns] 2015-07-01T01:30:00 2015-07-01T04:30:00 ...\n",
       "  * lat      (lat) float32 -89.9375 -89.75 -89.5 -89.25 -89.0 -88.75 -88.5 ...\n",
       "  * lon      (lon) float32 -180.0 -179.688 -179.375 -179.062 -178.75 ..."
      ]
     },
     "execution_count": 17,
     "metadata": {},
     "output_type": "execute_result"
    }
   ],
   "source": [
    "dr_levmean"
   ]
  },
  {
   "cell_type": "markdown",
   "metadata": {},
   "source": [
    "You can use `dr_levmean.to_netcdf(\"filename.nc\")` to save the result to disk. \n",
    "\n",
    "We can further simplify the above process. Instead of using `.compute()` to get in-memory result, we can simply do a \"disk to disk\" operation."
   ]
  },
  {
   "cell_type": "code",
   "execution_count": 18,
   "metadata": {},
   "outputs": [
    {
     "name": "stdout",
     "output_type": "stream",
     "text": [
      "[########################################] | 100% Completed | 19.4s\n"
     ]
    }
   ],
   "source": [
    "with ProgressBar():\n",
    "    dr.mean(dim='lev').to_netcdf('column_average.nc')"
   ]
  },
  {
   "cell_type": "markdown",
   "metadata": {},
   "source": [
    "xarray automatically reads each piece (chunk) of data into memory, compute the mean, dump the result to disk, and proceed to the next piece."
   ]
  },
  {
   "cell_type": "markdown",
   "metadata": {},
   "source": [
    "Open the file to double check:"
   ]
  },
  {
   "cell_type": "code",
   "execution_count": 19,
   "metadata": {},
   "outputs": [
    {
     "data": {
      "text/plain": [
       "<xarray.Dataset>\n",
       "Dimensions:  (lat: 721, lon: 1152, time: 8)\n",
       "Coordinates:\n",
       "  * time     (time) datetime64[ns] 2015-07-01T01:30:00 2015-07-01T04:30:00 ...\n",
       "  * lat      (lat) float32 -89.9375 -89.75 -89.5 -89.25 -89.0 -88.75 -88.5 ...\n",
       "  * lon      (lon) float32 -180.0 -179.688 -179.375 -179.062 -178.75 ...\n",
       "Data variables:\n",
       "    CLOUD    (time, lat, lon) float64 0.09893 0.09893 0.09893 0.09893 ..."
      ]
     },
     "execution_count": 19,
     "metadata": {},
     "output_type": "execute_result"
    }
   ],
   "source": [
    "xr.open_dataset('column_average.nc')"
   ]
  },
  {
   "cell_type": "markdown",
   "metadata": {},
   "source": [
    "## A compact version of previous section"
   ]
  },
  {
   "cell_type": "markdown",
   "metadata": {},
   "source": [
    "All we've done in the previous section can be summarized by 2 lines of code:"
   ]
  },
  {
   "cell_type": "code",
   "execution_count": 20,
   "metadata": {
    "collapsed": true
   },
   "outputs": [],
   "source": [
    "ds = xr.open_dataset(\"./GEOSFP.20150701.A3cld.Native.nc\", chunks={'time': 1})\n",
    "ds['CLOUD'].mean(dim='lev').to_netcdf('column_average_CLOUD.nc')"
   ]
  },
  {
   "cell_type": "markdown",
   "metadata": {},
   "source": [
    "That's it! You've just solved a geoscience big data problem without worrying about any specific \"big data\" techniques!"
   ]
  }
 ],
 "metadata": {
  "kernelspec": {
   "display_name": "Python 3",
   "language": "python",
   "name": "python3"
  },
  "language_info": {
   "codemirror_mode": {
    "name": "ipython",
    "version": 3
   },
   "file_extension": ".py",
   "mimetype": "text/x-python",
   "name": "python",
   "nbconvert_exporter": "python",
   "pygments_lexer": "ipython3",
   "version": "3.6.2"
  },
  "toc": {
   "nav_menu": {},
   "number_sections": true,
   "sideBar": true,
   "skip_h1_title": false,
   "toc_cell": false,
   "toc_position": {
    "height": "457px",
    "left": "0px",
    "right": "auto",
    "top": "105px",
    "width": "212px"
   },
   "toc_section_display": "block",
   "toc_window_display": true
  }
 },
 "nbformat": 4,
 "nbformat_minor": 2
}
